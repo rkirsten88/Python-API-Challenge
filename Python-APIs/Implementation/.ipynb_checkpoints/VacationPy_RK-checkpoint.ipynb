{
 "cells": [
  {
   "cell_type": "markdown",
   "metadata": {},
   "source": [
    "# VacationPy\n",
    "----\n",
    "\n",
    "#### Note\n",
    "* Keep an eye on your API usage. Use https://developers.google.com/maps/reporting/gmp-reporting as reference for how to monitor your usage and billing.\n",
    "\n",
    "* Instructions have been included for each segment. You do not have to follow them exactly, but they are included to help you think through the steps."
   ]
  },
  {
   "cell_type": "code",
   "execution_count": 1,
   "metadata": {},
   "outputs": [],
   "source": [
    "# Dependencies and Setup\n",
    "import matplotlib.pyplot as plt\n",
    "import pandas as pd\n",
    "import numpy as np\n",
    "import requests\n",
    "import gmaps\n",
    "import os\n",
    "import json\n",
    "\n",
    "# Import API key\n",
    "from config import g_key"
   ]
  },
  {
   "cell_type": "markdown",
   "metadata": {},
   "source": [
    "### Store Part I results into DataFrame\n",
    "* Load the csv exported in Part I to a DataFrame"
   ]
  },
  {
   "cell_type": "code",
   "execution_count": 2,
   "metadata": {},
   "outputs": [
    {
     "data": {
      "text/html": [
       "<div>\n",
       "<style scoped>\n",
       "    .dataframe tbody tr th:only-of-type {\n",
       "        vertical-align: middle;\n",
       "    }\n",
       "\n",
       "    .dataframe tbody tr th {\n",
       "        vertical-align: top;\n",
       "    }\n",
       "\n",
       "    .dataframe thead th {\n",
       "        text-align: right;\n",
       "    }\n",
       "</style>\n",
       "<table border=\"1\" class=\"dataframe\">\n",
       "  <thead>\n",
       "    <tr style=\"text-align: right;\">\n",
       "      <th></th>\n",
       "      <th>Unnamed: 0</th>\n",
       "      <th>City</th>\n",
       "      <th>Country</th>\n",
       "      <th>Latitude</th>\n",
       "      <th>Longitude</th>\n",
       "      <th>Date</th>\n",
       "      <th>Temperature (F)</th>\n",
       "      <th>Temp Max</th>\n",
       "      <th>Humidity (%)</th>\n",
       "      <th>Cloudiness (%)</th>\n",
       "      <th>Windspeed (mph)</th>\n",
       "    </tr>\n",
       "  </thead>\n",
       "  <tbody>\n",
       "    <tr>\n",
       "      <th>0</th>\n",
       "      <td>0</td>\n",
       "      <td>Jennings</td>\n",
       "      <td>US</td>\n",
       "      <td>38.72</td>\n",
       "      <td>-90.26</td>\n",
       "      <td>1600208260</td>\n",
       "      <td>78.69</td>\n",
       "      <td>81.00</td>\n",
       "      <td>44</td>\n",
       "      <td>75</td>\n",
       "      <td>5.82</td>\n",
       "    </tr>\n",
       "    <tr>\n",
       "      <th>1</th>\n",
       "      <td>1</td>\n",
       "      <td>Bluff</td>\n",
       "      <td>NZ</td>\n",
       "      <td>-46.60</td>\n",
       "      <td>168.33</td>\n",
       "      <td>1600208086</td>\n",
       "      <td>48.99</td>\n",
       "      <td>48.99</td>\n",
       "      <td>79</td>\n",
       "      <td>100</td>\n",
       "      <td>14.00</td>\n",
       "    </tr>\n",
       "    <tr>\n",
       "      <th>2</th>\n",
       "      <td>2</td>\n",
       "      <td>Kapaa</td>\n",
       "      <td>US</td>\n",
       "      <td>22.08</td>\n",
       "      <td>-159.32</td>\n",
       "      <td>1600208097</td>\n",
       "      <td>84.79</td>\n",
       "      <td>86.00</td>\n",
       "      <td>58</td>\n",
       "      <td>20</td>\n",
       "      <td>10.29</td>\n",
       "    </tr>\n",
       "    <tr>\n",
       "      <th>3</th>\n",
       "      <td>3</td>\n",
       "      <td>Lebu</td>\n",
       "      <td>CL</td>\n",
       "      <td>-37.62</td>\n",
       "      <td>-73.65</td>\n",
       "      <td>1600208260</td>\n",
       "      <td>50.95</td>\n",
       "      <td>50.95</td>\n",
       "      <td>96</td>\n",
       "      <td>100</td>\n",
       "      <td>6.06</td>\n",
       "    </tr>\n",
       "    <tr>\n",
       "      <th>4</th>\n",
       "      <td>4</td>\n",
       "      <td>Grand-Santi</td>\n",
       "      <td>GF</td>\n",
       "      <td>4.25</td>\n",
       "      <td>-54.38</td>\n",
       "      <td>1600208260</td>\n",
       "      <td>75.85</td>\n",
       "      <td>75.85</td>\n",
       "      <td>90</td>\n",
       "      <td>81</td>\n",
       "      <td>0.54</td>\n",
       "    </tr>\n",
       "    <tr>\n",
       "      <th>...</th>\n",
       "      <td>...</td>\n",
       "      <td>...</td>\n",
       "      <td>...</td>\n",
       "      <td>...</td>\n",
       "      <td>...</td>\n",
       "      <td>...</td>\n",
       "      <td>...</td>\n",
       "      <td>...</td>\n",
       "      <td>...</td>\n",
       "      <td>...</td>\n",
       "      <td>...</td>\n",
       "    </tr>\n",
       "    <tr>\n",
       "      <th>579</th>\n",
       "      <td>579</td>\n",
       "      <td>Selaphum</td>\n",
       "      <td>TH</td>\n",
       "      <td>16.03</td>\n",
       "      <td>103.94</td>\n",
       "      <td>1600208316</td>\n",
       "      <td>77.11</td>\n",
       "      <td>77.11</td>\n",
       "      <td>85</td>\n",
       "      <td>77</td>\n",
       "      <td>2.42</td>\n",
       "    </tr>\n",
       "    <tr>\n",
       "      <th>580</th>\n",
       "      <td>580</td>\n",
       "      <td>Turochak</td>\n",
       "      <td>RU</td>\n",
       "      <td>52.26</td>\n",
       "      <td>87.12</td>\n",
       "      <td>1600208316</td>\n",
       "      <td>47.59</td>\n",
       "      <td>47.59</td>\n",
       "      <td>80</td>\n",
       "      <td>82</td>\n",
       "      <td>3.53</td>\n",
       "    </tr>\n",
       "    <tr>\n",
       "      <th>581</th>\n",
       "      <td>581</td>\n",
       "      <td>Tingi</td>\n",
       "      <td>TZ</td>\n",
       "      <td>-11.30</td>\n",
       "      <td>35.03</td>\n",
       "      <td>1600208316</td>\n",
       "      <td>68.38</td>\n",
       "      <td>68.38</td>\n",
       "      <td>52</td>\n",
       "      <td>31</td>\n",
       "      <td>6.89</td>\n",
       "    </tr>\n",
       "    <tr>\n",
       "      <th>582</th>\n",
       "      <td>582</td>\n",
       "      <td>Nelson Bay</td>\n",
       "      <td>AU</td>\n",
       "      <td>-32.72</td>\n",
       "      <td>152.15</td>\n",
       "      <td>1600207872</td>\n",
       "      <td>59.63</td>\n",
       "      <td>60.01</td>\n",
       "      <td>93</td>\n",
       "      <td>20</td>\n",
       "      <td>5.82</td>\n",
       "    </tr>\n",
       "    <tr>\n",
       "      <th>583</th>\n",
       "      <td>583</td>\n",
       "      <td>Sémbé</td>\n",
       "      <td>CG</td>\n",
       "      <td>1.65</td>\n",
       "      <td>14.58</td>\n",
       "      <td>1600208254</td>\n",
       "      <td>71.13</td>\n",
       "      <td>71.13</td>\n",
       "      <td>93</td>\n",
       "      <td>57</td>\n",
       "      <td>1.86</td>\n",
       "    </tr>\n",
       "  </tbody>\n",
       "</table>\n",
       "<p>584 rows × 11 columns</p>\n",
       "</div>"
      ],
      "text/plain": [
       "     Unnamed: 0         City Country  Latitude  Longitude        Date  \\\n",
       "0             0     Jennings      US     38.72     -90.26  1600208260   \n",
       "1             1        Bluff      NZ    -46.60     168.33  1600208086   \n",
       "2             2        Kapaa      US     22.08    -159.32  1600208097   \n",
       "3             3         Lebu      CL    -37.62     -73.65  1600208260   \n",
       "4             4  Grand-Santi      GF      4.25     -54.38  1600208260   \n",
       "..          ...          ...     ...       ...        ...         ...   \n",
       "579         579     Selaphum      TH     16.03     103.94  1600208316   \n",
       "580         580     Turochak      RU     52.26      87.12  1600208316   \n",
       "581         581        Tingi      TZ    -11.30      35.03  1600208316   \n",
       "582         582   Nelson Bay      AU    -32.72     152.15  1600207872   \n",
       "583         583        Sémbé      CG      1.65      14.58  1600208254   \n",
       "\n",
       "     Temperature (F)  Temp Max  Humidity (%)  Cloudiness (%)  Windspeed (mph)  \n",
       "0              78.69     81.00            44              75             5.82  \n",
       "1              48.99     48.99            79             100            14.00  \n",
       "2              84.79     86.00            58              20            10.29  \n",
       "3              50.95     50.95            96             100             6.06  \n",
       "4              75.85     75.85            90              81             0.54  \n",
       "..               ...       ...           ...             ...              ...  \n",
       "579            77.11     77.11            85              77             2.42  \n",
       "580            47.59     47.59            80              82             3.53  \n",
       "581            68.38     68.38            52              31             6.89  \n",
       "582            59.63     60.01            93              20             5.82  \n",
       "583            71.13     71.13            93              57             1.86  \n",
       "\n",
       "[584 rows x 11 columns]"
      ]
     },
     "execution_count": 2,
     "metadata": {},
     "output_type": "execute_result"
    }
   ],
   "source": [
    "city_weather_df = pd.read_csv(\"Output/city_data.csv\")\n",
    "city_weather_df"
   ]
  },
  {
   "cell_type": "markdown",
   "metadata": {},
   "source": [
    "### Humidity Heatmap\n",
    "* Configure gmaps.\n",
    "* Use the Lat and Lng as locations and Humidity as the weight.\n",
    "* Add Heatmap layer to map."
   ]
  },
  {
   "cell_type": "code",
   "execution_count": 3,
   "metadata": {},
   "outputs": [],
   "source": [
    "# Configure gmaps with API key\n",
    "gmaps.configure(api_key=g_key)"
   ]
  },
  {
   "cell_type": "code",
   "execution_count": 4,
   "metadata": {},
   "outputs": [
    {
     "data": {
      "application/vnd.jupyter.widget-view+json": {
       "model_id": "5dd6f5df0ba94258b9727196180fc232",
       "version_major": 2,
       "version_minor": 0
      },
      "text/plain": [
       "Figure(layout=FigureLayout(height='420px'))"
      ]
     },
     "metadata": {},
     "output_type": "display_data"
    }
   ],
   "source": [
    "# Store 'Lat' and 'Lng' into  locations \n",
    "locations = city_weather_df[[\"Latitude\", \"Longitude\"]].astype(float)\n",
    "\n",
    "# Create a poverty Heatmap layer\n",
    "humidity_fig = gmaps.figure()\n",
    "heat_layer = gmaps.heatmap_layer(locations, weights=city_weather_df['Humidity (%)'], \n",
    "                                 dissipating=False, max_intensity=100,\n",
    "                                 point_radius = 1)\n",
    "\n",
    "humidity_fig.add_layer(heat_layer)\n",
    "humidity_fig"
   ]
  },
  {
   "cell_type": "code",
   "execution_count": 19,
   "metadata": {},
   "outputs": [
    {
     "name": "stdout",
     "output_type": "stream",
     "text": [
      " The figure shows the heat map of the relative humidity percent in each city\n"
     ]
    }
   ],
   "source": [
    "print(f' The figure shows the heat map of the relative humidity percent in each city')"
   ]
  },
  {
   "cell_type": "markdown",
   "metadata": {},
   "source": [
    "### Create new DataFrame fitting weather criteria\n",
    "* Narrow down the cities to fit weather conditions.\n",
    "* Drop any rows will null values."
   ]
  },
  {
   "cell_type": "code",
   "execution_count": 5,
   "metadata": {},
   "outputs": [
    {
     "data": {
      "text/html": [
       "<div>\n",
       "<style scoped>\n",
       "    .dataframe tbody tr th:only-of-type {\n",
       "        vertical-align: middle;\n",
       "    }\n",
       "\n",
       "    .dataframe tbody tr th {\n",
       "        vertical-align: top;\n",
       "    }\n",
       "\n",
       "    .dataframe thead th {\n",
       "        text-align: right;\n",
       "    }\n",
       "</style>\n",
       "<table border=\"1\" class=\"dataframe\">\n",
       "  <thead>\n",
       "    <tr style=\"text-align: right;\">\n",
       "      <th></th>\n",
       "      <th>City</th>\n",
       "      <th>Country</th>\n",
       "      <th>Latitude</th>\n",
       "      <th>Longitude</th>\n",
       "      <th>Date</th>\n",
       "      <th>Temperature (F)</th>\n",
       "      <th>Temp Max</th>\n",
       "      <th>Humidity (%)</th>\n",
       "      <th>Cloudiness (%)</th>\n",
       "      <th>Windspeed (mph)</th>\n",
       "    </tr>\n",
       "  </thead>\n",
       "  <tbody>\n",
       "    <tr>\n",
       "      <th>0</th>\n",
       "      <td>Piracanjuba</td>\n",
       "      <td>BR</td>\n",
       "      <td>-17.30</td>\n",
       "      <td>-49.02</td>\n",
       "      <td>1600207603</td>\n",
       "      <td>79.81</td>\n",
       "      <td>79.81</td>\n",
       "      <td>22</td>\n",
       "      <td>0</td>\n",
       "      <td>10.22</td>\n",
       "    </tr>\n",
       "    <tr>\n",
       "      <th>1</th>\n",
       "      <td>Areni</td>\n",
       "      <td>AM</td>\n",
       "      <td>39.72</td>\n",
       "      <td>45.18</td>\n",
       "      <td>1600208309</td>\n",
       "      <td>77.00</td>\n",
       "      <td>77.00</td>\n",
       "      <td>44</td>\n",
       "      <td>0</td>\n",
       "      <td>11.41</td>\n",
       "    </tr>\n",
       "  </tbody>\n",
       "</table>\n",
       "</div>"
      ],
      "text/plain": [
       "          City Country  Latitude  Longitude        Date  Temperature (F)  \\\n",
       "0  Piracanjuba      BR    -17.30     -49.02  1600207603            79.81   \n",
       "1        Areni      AM     39.72      45.18  1600208309            77.00   \n",
       "\n",
       "   Temp Max  Humidity (%)  Cloudiness (%)  Windspeed (mph)  \n",
       "0     79.81            22               0            10.22  \n",
       "1     77.00            44               0            11.41  "
      ]
     },
     "execution_count": 5,
     "metadata": {},
     "output_type": "execute_result"
    }
   ],
   "source": [
    "ideal_cities_df = city_weather_df.loc[(city_weather_df[\"Temp Max\"] > 70) & (city_weather_df[\"Temp Max\"] < 80) & (city_weather_df[\"Cloudiness (%)\"] == 0) & (city_weather_df[\"Humidity (%)\"] < 50), :]\n",
    "ideal_cities_df = ideal_cities_df.dropna(how='any')\n",
    "del ideal_cities_df['Unnamed: 0']\n",
    "hotel_df=ideal_cities_df.reset_index(drop=True)\n",
    "hotel_df"
   ]
  },
  {
   "cell_type": "markdown",
   "metadata": {},
   "source": [
    "### Hotel Map\n",
    "* Store into variable named `hotel_df`.\n",
    "* Add a \"Hotel Name\" column to the DataFrame.\n",
    "* Set parameters to search for hotels with 5000 meters.\n",
    "* Hit the Google Places API for each city's coordinates.\n",
    "* Store the first Hotel result into the DataFrame.\n",
    "* Plot markers on top of the heatmap."
   ]
  },
  {
   "cell_type": "code",
   "execution_count": 6,
   "metadata": {},
   "outputs": [
    {
     "data": {
      "text/html": [
       "<div>\n",
       "<style scoped>\n",
       "    .dataframe tbody tr th:only-of-type {\n",
       "        vertical-align: middle;\n",
       "    }\n",
       "\n",
       "    .dataframe tbody tr th {\n",
       "        vertical-align: top;\n",
       "    }\n",
       "\n",
       "    .dataframe thead th {\n",
       "        text-align: right;\n",
       "    }\n",
       "</style>\n",
       "<table border=\"1\" class=\"dataframe\">\n",
       "  <thead>\n",
       "    <tr style=\"text-align: right;\">\n",
       "      <th></th>\n",
       "      <th>City</th>\n",
       "      <th>Country</th>\n",
       "      <th>Latitude</th>\n",
       "      <th>Longitude</th>\n",
       "      <th>Date</th>\n",
       "      <th>Temperature (F)</th>\n",
       "      <th>Temp Max</th>\n",
       "      <th>Humidity (%)</th>\n",
       "      <th>Cloudiness (%)</th>\n",
       "      <th>Windspeed (mph)</th>\n",
       "      <th>Hotel Name</th>\n",
       "    </tr>\n",
       "  </thead>\n",
       "  <tbody>\n",
       "    <tr>\n",
       "      <th>0</th>\n",
       "      <td>Piracanjuba</td>\n",
       "      <td>BR</td>\n",
       "      <td>-17.30</td>\n",
       "      <td>-49.02</td>\n",
       "      <td>1600207603</td>\n",
       "      <td>79.81</td>\n",
       "      <td>79.81</td>\n",
       "      <td>22</td>\n",
       "      <td>0</td>\n",
       "      <td>10.22</td>\n",
       "      <td></td>\n",
       "    </tr>\n",
       "    <tr>\n",
       "      <th>1</th>\n",
       "      <td>Areni</td>\n",
       "      <td>AM</td>\n",
       "      <td>39.72</td>\n",
       "      <td>45.18</td>\n",
       "      <td>1600208309</td>\n",
       "      <td>77.00</td>\n",
       "      <td>77.00</td>\n",
       "      <td>44</td>\n",
       "      <td>0</td>\n",
       "      <td>11.41</td>\n",
       "      <td></td>\n",
       "    </tr>\n",
       "  </tbody>\n",
       "</table>\n",
       "</div>"
      ],
      "text/plain": [
       "          City Country  Latitude  Longitude        Date  Temperature (F)  \\\n",
       "0  Piracanjuba      BR    -17.30     -49.02  1600207603            79.81   \n",
       "1        Areni      AM     39.72      45.18  1600208309            77.00   \n",
       "\n",
       "   Temp Max  Humidity (%)  Cloudiness (%)  Windspeed (mph) Hotel Name  \n",
       "0     79.81            22               0            10.22             \n",
       "1     77.00            44               0            11.41             "
      ]
     },
     "execution_count": 6,
     "metadata": {},
     "output_type": "execute_result"
    }
   ],
   "source": [
    "#add column\n",
    "hotel_df[\"Hotel Name\"] = \"\"\n",
    "hotel_df"
   ]
  },
  {
   "cell_type": "code",
   "execution_count": 17,
   "metadata": {},
   "outputs": [
    {
     "name": "stdout",
     "output_type": "stream",
     "text": [
      "Retrieving Results: Piracanjuba.\n",
      "Closest hotel is Hotel das Rosas em Piracanjuba.\n",
      "Retrieving Results: Areni.\n",
      "Closest hotel is Park-Hotel Khoren's Lake.\n"
     ]
    }
   ],
   "source": [
    "#\n",
    "params = {\n",
    "    \"radius\": 5000,\n",
    "    \"types\": \"lodging\",\n",
    "    \"key\": g_key\n",
    "}\n",
    "\n",
    "\n",
    "for index, row in hotel_df.iterrows():\n",
    "    # get latitude & longitude\n",
    "    lat = row[\"Latitude\"]\n",
    "    long = row[\"Longitude\"]\n",
    "\n",
    "    #loop through parameters\n",
    "    params[\"location\"] = f\"{lat},{long}\"\n",
    "    #loop through this url\n",
    "    base_url = \"https://maps.googleapis.com/maps/api/place/nearbysearch/json\"\n",
    "\n",
    "    #make API request\n",
    "    print(f\"Retrieving Results: {row['City']}.\")\n",
    "    response = requests.get(base_url, params=params).json()\n",
    "   \n",
    "    \n",
    "    #results\n",
    "    results = response['results']\n",
    "    \n",
    "    try:\n",
    "        print(f\"Closest hotel is {results[0]['name']}.\")\n",
    "        hotel_df.loc[index, 'Hotel Name'] = results[0]['name']\n",
    "        \n",
    "    except (KeyError, IndexError):\n",
    "        print(\"Missing field/result... skipping.\")"
   ]
  },
  {
   "cell_type": "code",
   "execution_count": 13,
   "metadata": {},
   "outputs": [],
   "source": [
    "# NOTE: Do not change any of the code in this cell\n",
    "\n",
    "# Using the template add the hotel marks to the heatmap\n",
    "info_box_template = \"\"\"\n",
    "<dl>\n",
    "<dt>Name</dt><dd>{Hotel Name}</dd>\n",
    "<dt>City</dt><dd>{City}</dd>\n",
    "<dt>Country</dt><dd>{Country}</dd>\n",
    "</dl>\n",
    "\"\"\"\n",
    "# Store the DataFrame Row\n",
    "# NOTE: be sure to update with your DataFrame name\n",
    "hotel_info = [info_box_template.format(**row) for index, row in hotel_df.iterrows()]\n",
    "locations = hotel_df[[\"Latitude\", \"Longitude\"]]"
   ]
  },
  {
   "cell_type": "code",
   "execution_count": 16,
   "metadata": {},
   "outputs": [
    {
     "data": {
      "application/vnd.jupyter.widget-view+json": {
       "model_id": "f54533e86ad647229512aaf1c74467b8",
       "version_major": 2,
       "version_minor": 0
      },
      "text/plain": [
       "Figure(layout=FigureLayout(height='420px'))"
      ]
     },
     "metadata": {},
     "output_type": "display_data"
    }
   ],
   "source": [
    "fig = gmaps.figure()\n",
    "markers = gmaps.marker_layer(locations)\n",
    "# Add marker layer ontop of heat map\n",
    "# Create hotel symbol layer\n",
    "hotel_layer = gmaps.symbol_layer(locations, fill_color='rgba(0, 0, 150, 0)',\n",
    "                                stroke_color='rgba(0, 0, 150, 0.0)', \n",
    "                                scale=2,\n",
    "                                info_box_content=hotel_info)\n",
    "\n",
    "# Add the layer to the map\n",
    "fig.add_layer(markers)\n",
    "fig.add_layer(hotel_layer)\n",
    "\n",
    "\n",
    "# Display figure\n",
    "fig\n"
   ]
  },
  {
   "cell_type": "code",
   "execution_count": 10,
   "metadata": {},
   "outputs": [
    {
     "name": "stdout",
     "output_type": "stream",
     "text": [
      " The figure is a map of the locations of the hotels with the most ideal weather: between 75-85F, 0% cloudiness, and less than 50% humidity\n"
     ]
    }
   ],
   "source": [
    "print(f' The figure is a map of the locations of the hotels with the most ideal weather: between 75-85F, 0% cloudiness, and less than 50% humidity')"
   ]
  },
  {
   "cell_type": "code",
   "execution_count": null,
   "metadata": {},
   "outputs": [],
   "source": []
  }
 ],
 "metadata": {
  "kernelspec": {
   "display_name": "Python 3",
   "language": "python",
   "name": "python3"
  },
  "language_info": {
   "codemirror_mode": {
    "name": "ipython",
    "version": 3
   },
   "file_extension": ".py",
   "mimetype": "text/x-python",
   "name": "python",
   "nbconvert_exporter": "python",
   "pygments_lexer": "ipython3",
   "version": "3.8.3"
  },
  "latex_envs": {
   "LaTeX_envs_menu_present": true,
   "autoclose": false,
   "autocomplete": true,
   "bibliofile": "biblio.bib",
   "cite_by": "apalike",
   "current_citInitial": 1,
   "eqLabelWithNumbers": true,
   "eqNumInitial": 1,
   "hotkeys": {
    "equation": "Ctrl-E",
    "itemize": "Ctrl-I"
   },
   "labels_anchors": false,
   "latex_user_defs": false,
   "report_style_numbering": false,
   "user_envs_cfg": false
  }
 },
 "nbformat": 4,
 "nbformat_minor": 4
}
